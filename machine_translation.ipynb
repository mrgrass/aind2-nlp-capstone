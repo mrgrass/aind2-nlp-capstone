{
 "cells": [
  {
   "cell_type": "markdown",
   "metadata": {
    "collapsed": true
   },
   "source": [
    "# Artificial Intelligence Nanodegree\n",
    "## Machine Translation Project\n",
    "In this notebook, sections that end with **'(IMPLEMENTATION)'** in the header indicate that the following blocks of code will require additional functionality which you must provide. Please be sure to read the instructions carefully!\n",
    "\n",
    "## Introduction\n",
    "In this notebook, you will build a deep neural network that functions as part of an end-to-end machine translation pipeline. Your completed pipeline will accept English text as input and return the French translation.\n",
    "\n",
    "- **Preprocess** - You'll convert text to sequence of integers.\n",
    "- **Models** Create models which accepts a sequence of integers as input and returns a probability distribution over possible translations. After learning about the basic types of neural networks that are often used for machine translation, you will engage in your own investigations, to design your own model!\n",
    "- **Prediction** Run the model on English text.\n",
    "\n",
    "## Dataset\n",
    "We begin by investigating the dataset that will be used to train and evaluate your pipeline.  The most common datasets used for machine translation are from [WMT](http://www.statmt.org/).  However, that will take a long time to train a neural network on.  We'll be using a dataset we created for this project that contains a small vocabulary.  You'll be able to train your model in a reasonable time with this dataset.\n",
    "### Load Data\n",
    "The data is located in `data/small_vocab_en` and `data/small_vocab_fr`. The `small_vocab_en` file contains English sentences with their French translations in the `small_vocab_fr` file. Load the English and French data from these files from running the cell below."
   ]
  },
  {
   "cell_type": "code",
   "execution_count": 1,
   "metadata": {},
   "outputs": [
    {
     "name": "stdout",
     "output_type": "stream",
     "text": [
      "Dataset Loaded\n"
     ]
    }
   ],
   "source": [
    "import helper\n",
    "\n",
    "\n",
    "# Load English data\n",
    "english_sentences = helper.load_data('data/small_vocab_en')\n",
    "# Load French data\n",
    "french_sentences = helper.load_data('data/small_vocab_fr')\n",
    "\n",
    "print('Dataset Loaded')"
   ]
  },
  {
   "cell_type": "markdown",
   "metadata": {},
   "source": [
    "### Files\n",
    "Each line in `small_vocab_en` contains an English sentence with the respective translation in each line of `small_vocab_fr`.  View the first two lines from each file."
   ]
  },
  {
   "cell_type": "code",
   "execution_count": 2,
   "metadata": {},
   "outputs": [
    {
     "name": "stdout",
     "output_type": "stream",
     "text": [
      "small_vocab_en Line 1:  new jersey is sometimes quiet during autumn , and it is snowy in april .\n",
      "small_vocab_fr Line 1:  new jersey est parfois calme pendant l' automne , et il est neigeux en avril .\n",
      "small_vocab_en Line 2:  the united states is usually chilly during july , and it is usually freezing in november .\n",
      "small_vocab_fr Line 2:  les états-unis est généralement froid en juillet , et il gèle habituellement en novembre .\n"
     ]
    }
   ],
   "source": [
    "for sample_i in range(2):\n",
    "    print('small_vocab_en Line {}:  {}'.format(sample_i + 1, english_sentences[sample_i]))\n",
    "    print('small_vocab_fr Line {}:  {}'.format(sample_i + 1, french_sentences[sample_i]))"
   ]
  },
  {
   "cell_type": "markdown",
   "metadata": {},
   "source": [
    "From looking at the sentences, you can see they have been preprocessed already.  The puncuations have been delimited using spaces. All the text have been converted to lowercase.  This should save you some time, but the text requires more preprocessing.\n",
    "### Vocabulary\n",
    "The complexity of the problem is determined by the complexity of the vocabulary.  A more complex vocabulary is a more complex problem.  Let's look at the complexity of the dataset we'll be working with."
   ]
  },
  {
   "cell_type": "code",
   "execution_count": 3,
   "metadata": {},
   "outputs": [
    {
     "name": "stdout",
     "output_type": "stream",
     "text": [
      "1823250 English words.\n",
      "227 unique English words.\n",
      "10 Most common words in the English dataset:\n",
      "\"is\" \",\" \".\" \"in\" \"it\" \"during\" \"the\" \"but\" \"and\" \"sometimes\"\n",
      "\n",
      "1961295 French words.\n",
      "355 unique French words.\n",
      "10 Most common words in the French dataset:\n",
      "\"est\" \".\" \",\" \"en\" \"il\" \"les\" \"mais\" \"et\" \"la\" \"parfois\"\n"
     ]
    }
   ],
   "source": [
    "import collections\n",
    "\n",
    "\n",
    "english_words_counter = collections.Counter([word for sentence in english_sentences for word in sentence.split()])\n",
    "french_words_counter = collections.Counter([word for sentence in french_sentences for word in sentence.split()])\n",
    "\n",
    "print('{} English words.'.format(len([word for sentence in english_sentences for word in sentence.split()])))\n",
    "print('{} unique English words.'.format(len(english_words_counter)))\n",
    "print('10 Most common words in the English dataset:')\n",
    "print('\"' + '\" \"'.join(list(zip(*english_words_counter.most_common(10)))[0]) + '\"')\n",
    "print()\n",
    "print('{} French words.'.format(len([word for sentence in french_sentences for word in sentence.split()])))\n",
    "print('{} unique French words.'.format(len(french_words_counter)))\n",
    "print('10 Most common words in the French dataset:')\n",
    "print('\"' + '\" \"'.join(list(zip(*french_words_counter.most_common(10)))[0]) + '\"')"
   ]
  },
  {
   "cell_type": "markdown",
   "metadata": {},
   "source": [
    "For comparison, _Alice's Adventures in Wonderland_ contains 2,766 unique words of a total of 15,500 words.\n",
    "## Preprocess\n",
    "For this project, you won't use text data as input to your model. Instead, you'll convert the text into sequences of integers using the following preprocess methods:\n",
    "1. Tokenize the words into ids\n",
    "2. Add padding to make all the sequences the same length.\n",
    "\n",
    "Time to start preprocessing the data...\n",
    "### Tokenize (IMPLEMENTATION)\n",
    "For a neural network to predict on text data, it first has to be turned into data it can understand. Text data like \"dog\" is a sequence of ASCII character encodings.  Since a neural network is a series of multiplication and addition operations, the input data needs to be number(s).\n",
    "\n",
    "We can turn each character into a number or each word into a number.  These are called character and word ids, respectively.  Character ids are used for character level models that generate text predictions for each character.  A word level model uses word ids that generate text predictions for each word.  Word level models tend to learn better, since they are lower in complexity, so we'll use those.\n",
    "\n",
    "Turn each sentence into a sequence of words ids using Keras's [`Tokenizer`](https://keras.io/preprocessing/text/#tokenizer) function. Use this function to tokenize `english_sentences` and `french_sentences` in the cell below.\n",
    "\n",
    "Running the cell will run `tokenize` on sample data and show output for debugging."
   ]
  },
  {
   "cell_type": "code",
   "execution_count": 4,
   "metadata": {},
   "outputs": [
    {
     "name": "stderr",
     "output_type": "stream",
     "text": [
      "Using TensorFlow backend.\n"
     ]
    },
    {
     "name": "stdout",
     "output_type": "stream",
     "text": [
      "{'fox': 5, 'a': 3, 'quick': 2, 'is': 19, 'prize': 17, 'won': 16, 'lazy': 8, 'my': 12, 'of': 14, 'brown': 4, 'over': 7, 'the': 1, 'lexicography': 15, 'this': 18, 'jumps': 6, 'sentence': 21, 'short': 20, 'study': 13, 'dog': 9, 'by': 10, 'jove': 11}\n",
      "\n",
      "Sequence 1 in x\n",
      "  Input:  The quick brown fox jumps over the lazy dog .\n",
      "  Output: [1, 2, 4, 5, 6, 7, 1, 8, 9]\n",
      "Sequence 2 in x\n",
      "  Input:  By Jove , my quick study of lexicography won a prize .\n",
      "  Output: [10, 11, 12, 2, 13, 14, 15, 16, 3, 17]\n",
      "Sequence 3 in x\n",
      "  Input:  This is a short sentence .\n",
      "  Output: [18, 19, 3, 20, 21]\n"
     ]
    }
   ],
   "source": [
    "import project_tests as tests\n",
    "from keras.preprocessing.text import Tokenizer\n",
    "\n",
    "\n",
    "def tokenize(x):\n",
    "    \"\"\"\n",
    "    Tokenize x\n",
    "    :param x: List of sentences/strings to be tokenized\n",
    "    :return: Tuple of (tokenized x data, tokenizer used to tokenize x)\n",
    "    \"\"\"\n",
    "    # TODO: Implement\n",
    "    tokenizer = Tokenizer()\n",
    "    tokenizer.fit_on_texts(x)\n",
    "    \n",
    "    return tokenizer.texts_to_sequences(x), tokenizer\n",
    "\n",
    "tests.test_tokenize(tokenize)\n",
    "\n",
    "# Tokenize Example output\n",
    "text_sentences = [\n",
    "    'The quick brown fox jumps over the lazy dog .',\n",
    "    'By Jove , my quick study of lexicography won a prize .',\n",
    "    'This is a short sentence .']\n",
    "text_tokenized, text_tokenizer = tokenize(text_sentences)\n",
    "print(text_tokenizer.word_index)\n",
    "print()\n",
    "for sample_i, (sent, token_sent) in enumerate(zip(text_sentences, text_tokenized)):\n",
    "    print('Sequence {} in x'.format(sample_i + 1))\n",
    "    print('  Input:  {}'.format(sent))\n",
    "    print('  Output: {}'.format(token_sent))"
   ]
  },
  {
   "cell_type": "markdown",
   "metadata": {},
   "source": [
    "### Padding (IMPLEMENTATION)\n",
    "When batching the sequence of word ids together, each sequence needs to be the same length.  Since sentences are dynamic in length, we can add padding to the end of the sequences to make them the same length.\n",
    "\n",
    "Make sure all the English sequences have the same length and all the French sequences have the same length by adding padding to the **end** of each sequence using Keras's [`pad_sequences`](https://keras.io/preprocessing/sequence/#pad_sequences) function."
   ]
  },
  {
   "cell_type": "code",
   "execution_count": 5,
   "metadata": {},
   "outputs": [
    {
     "name": "stdout",
     "output_type": "stream",
     "text": [
      "Sequence 1 in x\n",
      "  Input:  [1 2 4 5 6 7 1 8 9]\n",
      "  Output: [1 2 4 5 6 7 1 8 9 0]\n",
      "Sequence 2 in x\n",
      "  Input:  [10 11 12  2 13 14 15 16  3 17]\n",
      "  Output: [10 11 12  2 13 14 15 16  3 17]\n",
      "Sequence 3 in x\n",
      "  Input:  [18 19  3 20 21]\n",
      "  Output: [18 19  3 20 21  0  0  0  0  0]\n"
     ]
    }
   ],
   "source": [
    "import numpy as np\n",
    "from keras.preprocessing.sequence import pad_sequences\n",
    "\n",
    "\n",
    "def pad(x, length=None):\n",
    "    \"\"\"\n",
    "    Pad x\n",
    "    :param x: List of sequences.\n",
    "    :param length: Length to pad the sequence to.  If None, use length of longest sequence in x.\n",
    "    :return: Padded numpy array of sequences\n",
    "    \"\"\"\n",
    "    # TODO: Implement\n",
    "    return pad_sequences(x, padding='post', maxlen=length)\n",
    "tests.test_pad(pad)\n",
    "\n",
    "# Pad Tokenized output\n",
    "test_pad = pad(text_tokenized)\n",
    "for sample_i, (token_sent, pad_sent) in enumerate(zip(text_tokenized, test_pad)):\n",
    "    print('Sequence {} in x'.format(sample_i + 1))\n",
    "    print('  Input:  {}'.format(np.array(token_sent)))\n",
    "    print('  Output: {}'.format(pad_sent))"
   ]
  },
  {
   "cell_type": "markdown",
   "metadata": {},
   "source": [
    "### Preprocess Pipeline\n",
    "Your focus for this project is to build neural network architecture, so we won't ask you to create a preprocess pipeline.  Instead, we've provided you with the implementation of the `preprocess` function."
   ]
  },
  {
   "cell_type": "code",
   "execution_count": 6,
   "metadata": {},
   "outputs": [
    {
     "name": "stdout",
     "output_type": "stream",
     "text": [
      "Data Preprocessed\n"
     ]
    }
   ],
   "source": [
    "def preprocess(x, y):\n",
    "    \"\"\"\n",
    "    Preprocess x and y\n",
    "    :param x: Feature List of sentences\n",
    "    :param y: Label List of sentences\n",
    "    :return: Tuple of (Preprocessed x, Preprocessed y, x tokenizer, y tokenizer)\n",
    "    \"\"\"\n",
    "    preprocess_x, x_tk = tokenize(x)\n",
    "    preprocess_y, y_tk = tokenize(y)\n",
    "\n",
    "    preprocess_x = pad(preprocess_x)\n",
    "    preprocess_y = pad(preprocess_y)\n",
    "\n",
    "    # Keras's sparse_categorical_crossentropy function requires the labels to be in 3 dimensions\n",
    "    preprocess_y = preprocess_y.reshape(*preprocess_y.shape, 1)\n",
    "\n",
    "    return preprocess_x, preprocess_y, x_tk, y_tk\n",
    "\n",
    "preproc_english_sentences, preproc_french_sentences, english_tokenizer, french_tokenizer =\\\n",
    "    preprocess(english_sentences, french_sentences)\n",
    "\n",
    "print('Data Preprocessed')"
   ]
  },
  {
   "cell_type": "markdown",
   "metadata": {},
   "source": [
    "## Models\n",
    "In this section, you will experiment with various neural network architectures.\n",
    "You will begin by training four relatively simple architectures.\n",
    "- Model 1 is a simple RNN\n",
    "- Model 2 is a RNN with Embedding\n",
    "- Model 3 is a Bidirectional RNN\n",
    "- Model 4 is an optional Encoder-Decoder RNN\n",
    "\n",
    "After experimenting with the four simple architectures, you will construct a deeper architecture that is designed to outperform all four models.\n",
    "### Ids Back to Text\n",
    "The neural network will be translating the input to words ids, which isn't the final form we want.  We want the French translation.  The function `logits_to_text` will bridge the gab between the logits from the neural network to the French translation.  You'll be using this function to better understand the output of the neural network."
   ]
  },
  {
   "cell_type": "code",
   "execution_count": 7,
   "metadata": {},
   "outputs": [
    {
     "name": "stdout",
     "output_type": "stream",
     "text": [
      "`logits_to_text` function loaded.\n"
     ]
    }
   ],
   "source": [
    "def logits_to_text(logits, tokenizer):\n",
    "    \"\"\"\n",
    "    Turn logits from a neural network into text using the tokenizer\n",
    "    :param logits: Logits from a neural network\n",
    "    :param tokenizer: Keras Tokenizer fit on the labels\n",
    "    :return: String that represents the text of the logits\n",
    "    \"\"\"\n",
    "    index_to_words = {id: word for word, id in tokenizer.word_index.items()}\n",
    "    index_to_words[0] = '<PAD>'\n",
    "\n",
    "    return ' '.join([index_to_words[prediction] for prediction in np.argmax(logits, 1)])\n",
    "\n",
    "print('`logits_to_text` function loaded.')"
   ]
  },
  {
   "cell_type": "markdown",
   "metadata": {},
   "source": [
    "### Model 1: RNN (IMPLEMENTATION)\n",
    "![RNN](images/rnn.png)\n",
    "A basic RNN model is a good baseline for sequence data.  In this model, you'll build a RNN that translates English to French."
   ]
  },
  {
   "cell_type": "code",
   "execution_count": 8,
   "metadata": {},
   "outputs": [
    {
     "name": "stdout",
     "output_type": "stream",
     "text": [
      "Train on 110288 samples, validate on 27573 samples\n",
      "Epoch 1/10\n",
      "110288/110288 [==============================] - 8s - loss: 2.2725 - acc: 0.5121 - val_loss: nan - val_acc: 0.5897\n",
      "Epoch 2/10\n",
      "110288/110288 [==============================] - 7s - loss: 1.5153 - acc: 0.6066 - val_loss: nan - val_acc: 0.6254\n",
      "Epoch 3/10\n",
      "110288/110288 [==============================] - 7s - loss: 1.3454 - acc: 0.6342 - val_loss: nan - val_acc: 0.6406\n",
      "Epoch 4/10\n",
      "110288/110288 [==============================] - 7s - loss: 1.2606 - acc: 0.6452 - val_loss: nan - val_acc: 0.6477\n",
      "Epoch 5/10\n",
      "110288/110288 [==============================] - 7s - loss: 1.2081 - acc: 0.6506 - val_loss: nan - val_acc: 0.6568\n",
      "Epoch 6/10\n",
      "110288/110288 [==============================] - 8s - loss: 1.1682 - acc: 0.6564 - val_loss: nan - val_acc: 0.6680\n",
      "Epoch 7/10\n",
      "110288/110288 [==============================] - 7s - loss: 1.1361 - acc: 0.6625 - val_loss: nan - val_acc: 0.6641\n",
      "Epoch 8/10\n",
      "110288/110288 [==============================] - 7s - loss: 1.1078 - acc: 0.6681 - val_loss: nan - val_acc: 0.6646\n",
      "Epoch 9/10\n",
      "110288/110288 [==============================] - 8s - loss: 1.0848 - acc: 0.6727 - val_loss: nan - val_acc: 0.6724\n",
      "Epoch 10/10\n",
      "110288/110288 [==============================] - 8s - loss: 1.0671 - acc: 0.6766 - val_loss: nan - val_acc: 0.6831\n",
      "new jersey est parfois humide en mois de mai et il est en <PAD> <PAD> <PAD> <PAD> <PAD> <PAD> <PAD> <PAD>\n"
     ]
    }
   ],
   "source": [
    "from keras.layers import GRU, Input, Dense, TimeDistributed\n",
    "from keras.models import Model, Sequential\n",
    "from keras.layers import Activation\n",
    "from keras.optimizers import Adam\n",
    "from keras.losses import sparse_categorical_crossentropy\n",
    "\n",
    "def simple_model(input_shape, output_sequence_length, english_vocab_size, french_vocab_size):\n",
    "    \"\"\"\n",
    "    Build and train a basic RNN on x and y\n",
    "    :param input_shape: Tuple of input shape\n",
    "    :param output_sequence_length: Length of output sequence\n",
    "    :param english_vocab_size: Number of unique English words in the dataset\n",
    "    :param french_vocab_size: Number of unique French words in the dataset\n",
    "    :return: Keras model built, but not trained\n",
    "    \"\"\"\n",
    "    # TODO: Build the layers\n",
    "    learning_rate = 0.01\n",
    "    n_hidden = 64\n",
    "    \n",
    "    model = Sequential()\n",
    "    model.add(GRU(units=64, input_shape=input_shape[1:], return_sequences=True))\n",
    "    model.add(Dense(french_vocab_size, activation='softmax'))\n",
    "    \n",
    "    model.compile(loss=sparse_categorical_crossentropy,\n",
    "                  optimizer=Adam(learning_rate),\n",
    "                  metrics=['accuracy'])\n",
    "    \n",
    "    return model\n",
    "tests.test_simple_model(simple_model)\n",
    "\n",
    "\n",
    "# Reshaping the input to work with a basic RNN\n",
    "tmp_x = pad(preproc_english_sentences, preproc_french_sentences.shape[1])\n",
    "tmp_x = tmp_x.reshape((-1, preproc_french_sentences.shape[-2], 1))\n",
    "\n",
    "# Train the neural network\n",
    "simple_rnn_model = simple_model(\n",
    "    tmp_x.shape,\n",
    "    preproc_french_sentences.shape[1],\n",
    "    len(english_tokenizer.word_index),\n",
    "    len(french_tokenizer.word_index))\n",
    "simple_rnn_model.fit(tmp_x, preproc_french_sentences, batch_size=1024, epochs=10, validation_split=0.2)\n",
    "\n",
    "# Print prediction(s)\n",
    "print(logits_to_text(simple_rnn_model.predict(tmp_x[:1])[0], french_tokenizer))"
   ]
  },
  {
   "cell_type": "markdown",
   "metadata": {},
   "source": [
    "### Model 2: Embedding (IMPLEMENTATION)\n",
    "![RNN](images/embedding.png)\n",
    "You've turned the words into ids, but there's a better representation of a word.  This is called word embeddings.  An embedding is a vector representation of the word that is close to similar words in n-dimensional space, where the n represents the size of the embedding vectors.\n",
    "\n",
    "In this model, you'll create a RNN model using embedding."
   ]
  },
  {
   "cell_type": "code",
   "execution_count": 9,
   "metadata": {},
   "outputs": [
    {
     "name": "stdout",
     "output_type": "stream",
     "text": [
      "_________________________________________________________________\n",
      "Layer (type)                 Output Shape              Param #   \n",
      "=================================================================\n",
      "embedding_2 (Embedding)      (None, 21, 64)            12800     \n",
      "_________________________________________________________________\n",
      "gru_4 (GRU)                  (None, 21, 64)            24768     \n",
      "_________________________________________________________________\n",
      "time_distributed_2 (TimeDist (None, 21, 345)           22425     \n",
      "=================================================================\n",
      "Total params: 59,993\n",
      "Trainable params: 59,993\n",
      "Non-trainable params: 0\n",
      "_________________________________________________________________\n",
      "None\n",
      "Train on 110288 samples, validate on 27573 samples\n",
      "Epoch 1/10\n",
      "110288/110288 [==============================] - 7s - loss: 2.3057 - acc: 0.5281 - val_loss: 1.2378 - val_acc: 0.6855\n",
      "Epoch 2/10\n",
      "110288/110288 [==============================] - 7s - loss: 0.8350 - acc: 0.7709 - val_loss: 0.5904 - val_acc: 0.8246\n",
      "Epoch 3/10\n",
      "110288/110288 [==============================] - 7s - loss: 0.5086 - acc: 0.8464 - val_loss: 0.4486 - val_acc: 0.8613\n",
      "Epoch 4/10\n",
      "110288/110288 [==============================] - 7s - loss: 0.4064 - acc: 0.8744 - val_loss: 0.3780 - val_acc: 0.8825\n",
      "Epoch 5/10\n",
      "110288/110288 [==============================] - 7s - loss: 0.3545 - acc: 0.8898 - val_loss: 0.3407 - val_acc: 0.8933\n",
      "Epoch 6/10\n",
      "110288/110288 [==============================] - 7s - loss: 0.3230 - acc: 0.8990 - val_loss: 0.3204 - val_acc: 0.9005\n",
      "Epoch 7/10\n",
      "110288/110288 [==============================] - 7s - loss: 0.3018 - acc: 0.9050 - val_loss: 0.2937 - val_acc: 0.9077\n",
      "Epoch 8/10\n",
      "110288/110288 [==============================] - 7s - loss: 0.2853 - acc: 0.9097 - val_loss: 0.2859 - val_acc: 0.9109\n",
      "Epoch 9/10\n",
      "110288/110288 [==============================] - 7s - loss: 0.2737 - acc: 0.9129 - val_loss: 0.2757 - val_acc: 0.9142\n",
      "Epoch 10/10\n",
      "110288/110288 [==============================] - 7s - loss: 0.2656 - acc: 0.9154 - val_loss: 0.2671 - val_acc: 0.9155\n",
      "new jersey est parfois calme en l' automne et il est neigeux en avril <PAD> <PAD> <PAD> <PAD> <PAD> <PAD> <PAD>\n"
     ]
    }
   ],
   "source": [
    "from keras.layers.embeddings import Embedding\n",
    "\n",
    "\n",
    "def embed_model(input_shape, output_sequence_length, english_vocab_size, french_vocab_size):\n",
    "    \"\"\"\n",
    "    Build and train a RNN model using word embedding on x and y\n",
    "    :param input_shape: Tuple of input shape\n",
    "    :param output_sequence_length: Length of output sequence\n",
    "    :param english_vocab_size: Number of unique English words in the dataset\n",
    "    :param french_vocab_size: Number of unique French words in the dataset\n",
    "    :return: Keras model built, but not trained\n",
    "    \"\"\"\n",
    "    # TODO: Implement\n",
    "    learning_rate = 0.01\n",
    "    n_hidden = 64\n",
    "    \n",
    "    model = Sequential()\n",
    "    \n",
    "    # Embedding layer:\n",
    "    model.add(Embedding(input_shape=(input_shape[1],), input_dim=english_vocab_size, output_dim=n_hidden, input_length=output_sequence_length))\n",
    "\n",
    "    model.add(GRU(units=n_hidden, return_sequences=True))\n",
    "    model.add(TimeDistributed(Dense(french_vocab_size, activation='softmax')))\n",
    "    \n",
    "    model.compile(loss=sparse_categorical_crossentropy,\n",
    "                  optimizer=Adam(learning_rate),\n",
    "                  metrics=['accuracy'])\n",
    "    \n",
    "    return model\n",
    "tests.test_embed_model(embed_model)\n",
    "\n",
    "\n",
    "# TODO: Reshape the input\n",
    "tmp_x = pad(preproc_english_sentences, preproc_french_sentences.shape[1])\n",
    "tmp_x = tmp_x.reshape((-1, preproc_french_sentences.shape[-2]))\n",
    "\n",
    "# TODO: Train the neural network\n",
    "embed_rnn_model = embed_model(\n",
    "    tmp_x.shape,\n",
    "    preproc_french_sentences.shape[1],\n",
    "    len(english_tokenizer.word_index) + 1,\n",
    "    len(french_tokenizer.word_index) +1 )\n",
    "\n",
    "print(embed_rnn_model.summary())\n",
    "\n",
    "embed_rnn_model.fit(tmp_x, \n",
    "                    preproc_french_sentences, \n",
    "                    batch_size=1024, \n",
    "                    epochs=10, \n",
    "                    validation_split=0.2)\n",
    "\n",
    "# TODO: Print prediction(s)\n",
    "print(logits_to_text(embed_rnn_model.predict(tmp_x[:1])[0], french_tokenizer))"
   ]
  },
  {
   "cell_type": "markdown",
   "metadata": {},
   "source": [
    "### Model 3: Bidirectional RNNs (IMPLEMENTATION)\n",
    "![RNN](images/bidirectional.png)\n",
    "One restriction of a RNN is that it can't see the future input, only the past.  This is where bidirectional recurrent neural networks come in.  They are able to see the future data."
   ]
  },
  {
   "cell_type": "code",
   "execution_count": 10,
   "metadata": {},
   "outputs": [
    {
     "name": "stdout",
     "output_type": "stream",
     "text": [
      "_________________________________________________________________\n",
      "Layer (type)                 Output Shape              Param #   \n",
      "=================================================================\n",
      "bidirectional_2 (Bidirection (None, 21, 128)           25344     \n",
      "_________________________________________________________________\n",
      "dense_6 (Dense)              (None, 21, 345)           44505     \n",
      "=================================================================\n",
      "Total params: 69,849\n",
      "Trainable params: 69,849\n",
      "Non-trainable params: 0\n",
      "_________________________________________________________________\n",
      "None\n",
      "Train on 110288 samples, validate on 27573 samples\n",
      "Epoch 1/10\n",
      "110288/110288 [==============================] - 11s - loss: 1.8288 - acc: 0.5822 - val_loss: 1.2919 - val_acc: 0.6454\n",
      "Epoch 2/10\n",
      "110288/110288 [==============================] - 10s - loss: 1.1928 - acc: 0.6598 - val_loss: 1.1218 - val_acc: 0.6710\n",
      "Epoch 3/10\n",
      "110288/110288 [==============================] - 10s - loss: 1.0757 - acc: 0.6779 - val_loss: 1.0337 - val_acc: 0.6843\n",
      "Epoch 4/10\n",
      "110288/110288 [==============================] - 11s - loss: 1.0095 - acc: 0.6861 - val_loss: 0.9853 - val_acc: 0.6898\n",
      "Epoch 5/10\n",
      "110288/110288 [==============================] - 11s - loss: 1.0026 - acc: 0.6858 - val_loss: 0.9890 - val_acc: 0.6889\n",
      "Epoch 6/10\n",
      "110288/110288 [==============================] - 10s - loss: 0.9584 - acc: 0.6943 - val_loss: 0.9401 - val_acc: 0.7003\n",
      "Epoch 7/10\n",
      "110288/110288 [==============================] - 10s - loss: 0.9243 - acc: 0.7024 - val_loss: 0.9153 - val_acc: 0.7054\n",
      "Epoch 8/10\n",
      "110288/110288 [==============================] - 10s - loss: 0.9027 - acc: 0.7072 - val_loss: 0.8935 - val_acc: 0.7090\n",
      "Epoch 9/10\n",
      "110288/110288 [==============================] - 10s - loss: 0.8827 - acc: 0.7127 - val_loss: 0.8762 - val_acc: 0.7143\n",
      "Epoch 10/10\n",
      "110288/110288 [==============================] - 10s - loss: 0.8695 - acc: 0.7169 - val_loss: 0.8639 - val_acc: 0.7202\n",
      "new jersey est parfois chaud en mois et mai et est est en en <PAD> <PAD> <PAD> <PAD> <PAD> <PAD> <PAD>\n"
     ]
    }
   ],
   "source": [
    "from keras.layers import Bidirectional\n",
    "\n",
    "\n",
    "def bd_model(input_shape, output_sequence_length, english_vocab_size, french_vocab_size):\n",
    "    \"\"\"\n",
    "    Build and train a bidirectional RNN model on x and y\n",
    "    :param input_shape: Tuple of input shape\n",
    "    :param output_sequence_length: Length of output sequence\n",
    "    :param english_vocab_size: Number of unique English words in the dataset\n",
    "    :param french_vocab_size: Number of unique French words in the dataset\n",
    "    :return: Keras model built, but not trained\n",
    "    \"\"\"\n",
    "    # TODO: Implement\n",
    "    \n",
    "    learning_rate = 0.01\n",
    "    n_hidden = 64\n",
    "    \n",
    "    model = Sequential()\n",
    "    model.add(Bidirectional(GRU(units=n_hidden, return_sequences=True), input_shape=input_shape[1:]))\n",
    "    model.add(Dense(french_vocab_size, activation='softmax'))\n",
    "    \n",
    "    model.compile(loss=sparse_categorical_crossentropy,\n",
    "                  optimizer=Adam(learning_rate),\n",
    "                  metrics=['accuracy'])\n",
    "    \n",
    "    return model\n",
    "tests.test_bd_model(bd_model)\n",
    "\n",
    "\n",
    "# TODO: Train and Print prediction(s)\n",
    "\n",
    "tmp_x = pad(preproc_english_sentences, preproc_french_sentences.shape[1])\n",
    "tmp_x = tmp_x.reshape((-1, preproc_french_sentences.shape[-2], 1))\n",
    "\n",
    "\n",
    "# TODO: Train the neural network\n",
    "bd_rnn_model = bd_model(\n",
    "    tmp_x.shape,\n",
    "    preproc_french_sentences.shape[1],\n",
    "    len(english_tokenizer.word_index) + 1,\n",
    "    len(french_tokenizer.word_index) +1 )\n",
    "\n",
    "print(bd_rnn_model.summary())\n",
    "\n",
    "bd_rnn_model.fit(tmp_x, \n",
    "                    preproc_french_sentences, \n",
    "                    batch_size=1024, \n",
    "                    epochs=10, \n",
    "                    validation_split=0.2)\n",
    "\n",
    "# TODO: Print prediction(s)\n",
    "print(logits_to_text(bd_rnn_model.predict(tmp_x[:1])[0], french_tokenizer))"
   ]
  },
  {
   "cell_type": "markdown",
   "metadata": {},
   "source": [
    "### Model 4: Encoder-Decoder (OPTIONAL)\n",
    "Time to look at encoder-decoder models.  This model is made up of an encoder and decoder. The encoder creates a matrix representation of the sentence.  The decoder takes this matrix as input and predicts the translation as output.\n",
    "\n",
    "Create an encoder-decoder model in the cell below."
   ]
  },
  {
   "cell_type": "code",
   "execution_count": 11,
   "metadata": {},
   "outputs": [
    {
     "name": "stdout",
     "output_type": "stream",
     "text": [
      "_________________________________________________________________\n",
      "Layer (type)                 Output Shape              Param #   \n",
      "=================================================================\n",
      "gru_9 (GRU)                  (None, 64)                12672     \n",
      "_________________________________________________________________\n",
      "dense_9 (Dense)              (None, 128)               8320      \n",
      "_________________________________________________________________\n",
      "repeat_vector_2 (RepeatVecto (None, 21, 128)           0         \n",
      "_________________________________________________________________\n",
      "gru_10 (GRU)                 (None, 21, 64)            37056     \n",
      "_________________________________________________________________\n",
      "time_distributed_4 (TimeDist (None, 21, 345)           22425     \n",
      "=================================================================\n",
      "Total params: 80,473\n",
      "Trainable params: 80,473\n",
      "Non-trainable params: 0\n",
      "_________________________________________________________________\n",
      "None\n",
      "Train on 110288 samples, validate on 27573 samples\n",
      "Epoch 1/10\n",
      "110288/110288 [==============================] - 9s - loss: 2.9241 - acc: 0.4299 - val_loss: 2.4902 - val_acc: 0.4636\n",
      "Epoch 2/10\n",
      "110288/110288 [==============================] - 9s - loss: 2.3826 - acc: 0.4702 - val_loss: 2.3172 - val_acc: 0.4723\n",
      "Epoch 3/10\n",
      "110288/110288 [==============================] - 9s - loss: 2.3016 - acc: 0.4715 - val_loss: 2.2835 - val_acc: 0.4731\n",
      "Epoch 4/10\n",
      "110288/110288 [==============================] - 9s - loss: 2.2833 - acc: 0.4715 - val_loss: 2.2765 - val_acc: 0.4723\n",
      "Epoch 5/10\n",
      "110288/110288 [==============================] - 9s - loss: 2.2769 - acc: 0.4717 - val_loss: 2.2715 - val_acc: 0.4723\n",
      "Epoch 6/10\n",
      "110288/110288 [==============================] - 9s - loss: 2.2735 - acc: 0.4716 - val_loss: 2.2689 - val_acc: 0.4723\n",
      "Epoch 7/10\n",
      "110288/110288 [==============================] - 9s - loss: 2.2715 - acc: 0.4717 - val_loss: 2.2679 - val_acc: 0.4723\n",
      "Epoch 8/10\n",
      "110288/110288 [==============================] - 10s - loss: 2.2695 - acc: 0.4715 - val_loss: 2.2658 - val_acc: 0.4717\n",
      "Epoch 9/10\n",
      "110288/110288 [==============================] - 9s - loss: 2.2682 - acc: 0.4718 - val_loss: 2.2646 - val_acc: 0.4725\n",
      "Epoch 10/10\n",
      "110288/110288 [==============================] - 9s - loss: 2.2673 - acc: 0.4717 - val_loss: 2.2635 - val_acc: 0.4731\n",
      "la est est est en en et mais il <PAD> <PAD> <PAD> <PAD> <PAD> <PAD> <PAD> <PAD> <PAD> <PAD> <PAD> <PAD>\n"
     ]
    }
   ],
   "source": [
    "from keras.layers import RepeatVector\n",
    "\n",
    "\n",
    "def encdec_model(input_shape, output_sequence_length, english_vocab_size, french_vocab_size):\n",
    "    \"\"\"\n",
    "    Build and train an encoder-decoder model on x and y\n",
    "    :param input_shape: Tuple of input shape\n",
    "    :param output_sequence_length: Length of output sequence\n",
    "    :param english_vocab_size: Number of unique English words in the dataset\n",
    "    :param french_vocab_size: Number of unique French words in the dataset\n",
    "    :return: Keras model built, but not trained\n",
    "    \"\"\"\n",
    "    # OPTIONAL: Implement\n",
    "    \n",
    "    learning_rate = 0.01\n",
    "    n_encoder = 64\n",
    "    n_dencoder = 64\n",
    "    \n",
    "    model = Sequential()\n",
    "\n",
    "    # Encoder:\n",
    "    model.add(GRU(units=n_encoder, input_shape=input_shape[1:]))\n",
    "    model.add(Dense(n_encoder * 2, activation='softmax'))\n",
    "    model.add(RepeatVector(output_sequence_length))\n",
    "    \n",
    "    # Decoder:\n",
    "    model.add(GRU(units=n_dencoder, return_sequences=True))\n",
    "    model.add(TimeDistributed(Dense(french_vocab_size, activation='softmax')))\n",
    "\n",
    "    \n",
    "    model.compile(loss=sparse_categorical_crossentropy,\n",
    "                  optimizer=Adam(learning_rate),\n",
    "                  metrics=['accuracy'])\n",
    "    \n",
    "    return model\n",
    "tests.test_encdec_model(encdec_model)\n",
    "\n",
    "\n",
    "# OPTIONAL: Train and Print prediction(s)\n",
    "tmp_x = pad(preproc_english_sentences, preproc_french_sentences.shape[1])\n",
    "tmp_x = tmp_x.reshape((-1, preproc_french_sentences.shape[-2], 1))\n",
    "\n",
    "\n",
    "# TODO: Train the neural network\n",
    "encdec_rnn_model = encdec_model(\n",
    "    tmp_x.shape,\n",
    "    preproc_french_sentences.shape[1],\n",
    "    len(english_tokenizer.word_index) + 1,\n",
    "    len(french_tokenizer.word_index) +1 )\n",
    "\n",
    "print(encdec_rnn_model.summary())\n",
    "\n",
    "encdec_rnn_model.fit(tmp_x,  preproc_french_sentences,  batch_size=1024,  epochs=10, validation_split=0.2)\n",
    "\n",
    "# TODO: Print prediction(s)\n",
    "print(logits_to_text(encdec_rnn_model.predict(tmp_x[:1])[0], french_tokenizer))"
   ]
  },
  {
   "cell_type": "markdown",
   "metadata": {},
   "source": [
    "### Model 5: Custom (IMPLEMENTATION)\n",
    "Use everything you learned from the previous models to create a model that incorporates embedding and a bidirectional rnn into one model."
   ]
  },
  {
   "cell_type": "code",
   "execution_count": 16,
   "metadata": {},
   "outputs": [
    {
     "name": "stdout",
     "output_type": "stream",
     "text": [
      "Final Model Loaded\n"
     ]
    }
   ],
   "source": [
    "def model_final(input_shape, output_sequence_length, english_vocab_size, french_vocab_size):\n",
    "    \"\"\"\n",
    "    Build and train a model that incorporates embedding, encoder-decoder, and bidirectional RNN on x and y\n",
    "    :param input_shape: Tuple of input shape\n",
    "    :param output_sequence_length: Length of output sequence\n",
    "    :param english_vocab_size: Number of unique English words in the dataset\n",
    "    :param french_vocab_size: Number of unique French words in the dataset\n",
    "    :return: Keras model built, but not trained\n",
    "    \"\"\"\n",
    "    # TODO: Implement\n",
    "    learning_rate = 0.003\n",
    "    n_encoder = 128 \n",
    "    n_dencoder = 256\n",
    "    word_embedding_dim = 256\n",
    "\n",
    "    model = Sequential()\n",
    "    \n",
    "    # Embedding layer:\n",
    "    model.add(Embedding(english_vocab_size, word_embedding_dim, input_shape = input_shape[1:], mask_zero=False))\n",
    "    \n",
    "    # Encoder: \n",
    "    model.add(Bidirectional(GRU(n_encoder, return_sequences=False)))\n",
    "    \n",
    "    # Decoder:\n",
    "    model.add(RepeatVector(output_sequence_length)) # repeat\n",
    "    model.add(Bidirectional(GRU(n_dencoder, return_sequences=True)))\n",
    "    model.add(Dense(french_vocab_size, activation='softmax'))\n",
    "    \n",
    "    model.compile(loss=sparse_categorical_crossentropy,\n",
    "                  optimizer=Adam(learning_rate),\n",
    "                  metrics=['accuracy'])\n",
    "\n",
    "    return model\n",
    "tests.test_model_final(model_final)\n",
    "\n",
    "print('Final Model Loaded')"
   ]
  },
  {
   "cell_type": "markdown",
   "metadata": {},
   "source": [
    "## Prediction (IMPLEMENTATION)"
   ]
  },
  {
   "cell_type": "code",
   "execution_count": 17,
   "metadata": {},
   "outputs": [
    {
     "name": "stdout",
     "output_type": "stream",
     "text": [
      "_________________________________________________________________\n",
      "Layer (type)                 Output Shape              Param #   \n",
      "=================================================================\n",
      "embedding_7 (Embedding)      (None, 15, 256)           51200     \n",
      "_________________________________________________________________\n",
      "bidirectional_11 (Bidirectio (None, 256)               295680    \n",
      "_________________________________________________________________\n",
      "repeat_vector_7 (RepeatVecto (None, 21, 256)           0         \n",
      "_________________________________________________________________\n",
      "bidirectional_12 (Bidirectio (None, 21, 512)           787968    \n",
      "_________________________________________________________________\n",
      "dense_18 (Dense)             (None, 21, 345)           176985    \n",
      "=================================================================\n",
      "Total params: 1,311,833\n",
      "Trainable params: 1,311,833\n",
      "Non-trainable params: 0\n",
      "_________________________________________________________________\n",
      "None\n",
      "Train on 110288 samples, validate on 27573 samples\n",
      "Epoch 1/100\n",
      "110288/110288 [==============================] - 39s - loss: 2.2865 - acc: 0.5034 - val_loss: 1.5039 - val_acc: 0.6066\n",
      "Epoch 2/100\n",
      "110288/110288 [==============================] - 38s - loss: 1.2882 - acc: 0.6507 - val_loss: 1.1025 - val_acc: 0.6956\n",
      "Epoch 3/100\n",
      "110288/110288 [==============================] - 39s - loss: 0.9194 - acc: 0.7364 - val_loss: 0.7758 - val_acc: 0.7731\n",
      "Epoch 4/100\n",
      "110288/110288 [==============================] - 37s - loss: 0.6681 - acc: 0.8042 - val_loss: 0.5672 - val_acc: 0.8355\n",
      "Epoch 5/100\n",
      "110288/110288 [==============================] - 38s - loss: 0.4960 - acc: 0.8562 - val_loss: 0.4334 - val_acc: 0.8732\n",
      "Epoch 6/100\n",
      "110288/110288 [==============================] - 38s - loss: 0.3430 - acc: 0.9019 - val_loss: 0.2794 - val_acc: 0.9209\n",
      "Epoch 7/100\n",
      "110288/110288 [==============================] - 38s - loss: 0.2420 - acc: 0.9312 - val_loss: 0.2184 - val_acc: 0.9373\n",
      "Epoch 8/100\n",
      "110288/110288 [==============================] - 38s - loss: 0.1791 - acc: 0.9487 - val_loss: 0.1807 - val_acc: 0.9479\n",
      "Epoch 9/100\n",
      "110288/110288 [==============================] - 37s - loss: 0.1564 - acc: 0.9544 - val_loss: 0.1543 - val_acc: 0.9549\n",
      "Epoch 10/100\n",
      "110288/110288 [==============================] - 37s - loss: 0.1278 - acc: 0.9625 - val_loss: 0.1283 - val_acc: 0.9628\n",
      "Epoch 11/100\n",
      "110288/110288 [==============================] - 37s - loss: 0.1080 - acc: 0.9682 - val_loss: 0.1145 - val_acc: 0.9658\n",
      "Epoch 12/100\n",
      "110288/110288 [==============================] - 37s - loss: 0.0939 - acc: 0.9721 - val_loss: 0.1049 - val_acc: 0.9692\n",
      "Epoch 13/100\n",
      "110288/110288 [==============================] - 37s - loss: 0.0864 - acc: 0.9745 - val_loss: 0.0936 - val_acc: 0.9727\n",
      "Epoch 14/100\n",
      "110288/110288 [==============================] - 37s - loss: 0.0727 - acc: 0.9784 - val_loss: 0.0916 - val_acc: 0.9726\n",
      "Epoch 15/100\n",
      "110288/110288 [==============================] - 37s - loss: 0.0693 - acc: 0.9793 - val_loss: 0.0890 - val_acc: 0.9735\n",
      "Epoch 16/100\n",
      "110288/110288 [==============================] - 37s - loss: 0.0652 - acc: 0.9805 - val_loss: 0.0830 - val_acc: 0.9760\n",
      "Epoch 17/100\n",
      "110288/110288 [==============================] - 37s - loss: 0.0579 - acc: 0.9829 - val_loss: 0.0897 - val_acc: 0.9734\n",
      "Epoch 18/100\n",
      "110288/110288 [==============================] - 37s - loss: 0.1229 - acc: 0.9636 - val_loss: 0.0896 - val_acc: 0.9741\n",
      "Epoch 19/100\n",
      "110288/110288 [==============================] - 37s - loss: 0.0583 - acc: 0.9828 - val_loss: 0.0754 - val_acc: 0.9781\n",
      "Epoch 20/100\n",
      "110288/110288 [==============================] - 37s - loss: 0.0455 - acc: 0.9867 - val_loss: 0.0725 - val_acc: 0.9795\n",
      "Epoch 21/100\n",
      "110288/110288 [==============================] - 38s - loss: 0.0380 - acc: 0.9889 - val_loss: 0.0700 - val_acc: 0.9805\n",
      "Epoch 22/100\n",
      "110288/110288 [==============================] - 37s - loss: 0.0345 - acc: 0.9898 - val_loss: 0.0671 - val_acc: 0.9819\n",
      "Epoch 23/100\n",
      "110288/110288 [==============================] - 37s - loss: 0.0355 - acc: 0.9895 - val_loss: 0.0723 - val_acc: 0.9802\n",
      "Epoch 24/100\n",
      "110288/110288 [==============================] - 37s - loss: 0.0338 - acc: 0.9901 - val_loss: 0.0706 - val_acc: 0.9807\n",
      "Epoch 25/100\n",
      "110288/110288 [==============================] - 37s - loss: 0.0487 - acc: 0.9854 - val_loss: 0.0711 - val_acc: 0.9805\n",
      "Epoch 26/100\n",
      "110288/110288 [==============================] - 37s - loss: 0.0365 - acc: 0.9891 - val_loss: 0.0765 - val_acc: 0.9790\n",
      "Epoch 27/100\n",
      "110288/110288 [==============================] - 37s - loss: 0.0350 - acc: 0.9897 - val_loss: 0.0714 - val_acc: 0.9812\n"
     ]
    },
    {
     "data": {
      "text/plain": [
       "<keras.callbacks.History at 0x7f70af2a3940>"
      ]
     },
     "execution_count": 17,
     "metadata": {},
     "output_type": "execute_result"
    }
   ],
   "source": [
    "from keras.callbacks import EarlyStopping\n",
    "early_stopping = EarlyStopping(monitor='val_loss', patience=4)\n",
    "\n",
    "batch_size=1028\n",
    "\n",
    "final_rnn_model = model_final(preproc_english_sentences.shape, \n",
    "                     preproc_french_sentences.shape[1], \n",
    "                     len(english_tokenizer.word_index) + 1, \n",
    "                     len(french_tokenizer.word_index) + 1)\n",
    "\n",
    "print(final_rnn_model.summary())\n",
    "\n",
    "final_rnn_model.fit(preproc_english_sentences, \n",
    "                    preproc_french_sentences, \n",
    "                    batch_size=batch_size, \n",
    "                    epochs=100, \n",
    "                    validation_split=0.2, \n",
    "                    callbacks=[early_stopping])"
   ]
  },
  {
   "cell_type": "code",
   "execution_count": 19,
   "metadata": {},
   "outputs": [
    {
     "name": "stdout",
     "output_type": "stream",
     "text": [
      "new jersey est parfois calme pendant l' automne et il est neigeux en avril <PAD> <PAD> <PAD> <PAD> <PAD> <PAD> <PAD>\n"
     ]
    }
   ],
   "source": [
    "final_pred_ex = final_rnn_model.predict(preproc_english_sentences[:1])[0]\n",
    "print(logits_to_text(final_pred_ex, french_tokenizer))"
   ]
  },
  {
   "cell_type": "code",
   "execution_count": 29,
   "metadata": {},
   "outputs": [
    {
     "name": "stdout",
     "output_type": "stream",
     "text": [
      "Sample 1:\n",
      "il a vu un vieux camion jaune <PAD> <PAD> <PAD> <PAD> <PAD> <PAD> <PAD> <PAD> <PAD> <PAD> <PAD> <PAD> <PAD> <PAD>\n",
      "Il a vu un vieux camion jaune\n",
      "Sample 2:\n",
      "new jersey est parfois calme pendant l' automne et il est neigeux en avril <PAD> <PAD> <PAD> <PAD> <PAD> <PAD> <PAD>\n",
      "new jersey est parfois calme pendant l' automne et il est neigeux en avril <PAD> <PAD> <PAD> <PAD> <PAD> <PAD> <PAD>\n"
     ]
    }
   ],
   "source": [
    "import numpy as np\n",
    "from keras.preprocessing.sequence import pad_sequences\n",
    "\n",
    "def final_predictions(x, y, x_tk, y_tk):\n",
    "    \"\"\"\n",
    "    Gets predictions using the final model\n",
    "    :param x: Preprocessed English data\n",
    "    :param y: Preprocessed French data\n",
    "    :param x_tk: English tokenizer\n",
    "    :param y_tk: French tokenizer\n",
    "    \"\"\"\n",
    "    # TODO: Train neural network using model_final\n",
    "    model = final_rnn_model\n",
    "    \n",
    "    ## DON'T EDIT ANYTHING BELOW THIS LINE\n",
    "    y_id_to_word = {value: key for key, value in y_tk.word_index.items()}\n",
    "    y_id_to_word[0] = '<PAD>'\n",
    "\n",
    "    sentence = 'he saw a old yellow truck'\n",
    "    sentence = [x_tk.word_index[word] for word in sentence.split()]\n",
    "    sentence = pad_sequences([sentence], maxlen=x.shape[-1], padding='post')\n",
    "    sentences = np.array([sentence[0], x[0]])\n",
    "    predictions = model.predict(sentences, len(sentences))\n",
    "    print('Sample 1:')\n",
    "    print(' '.join([y_id_to_word[np.argmax(x)] for x in predictions[0]]))\n",
    "    print('Il a vu un vieux camion jaune')\n",
    "    print('Sample 2:')\n",
    "    print(' '.join([y_id_to_word[np.argmax(x)] for x in predictions[1]]))\n",
    "    print(' '.join([y_id_to_word[np.max(x)] for x in y[0]]))    # I have fixed this line\n",
    "    \n",
    "final_predictions(preproc_english_sentences, preproc_french_sentences, english_tokenizer, french_tokenizer)"
   ]
  },
  {
   "cell_type": "markdown",
   "metadata": {},
   "source": [
    "## Submission\n",
    "When you are ready to submit your project, do the following steps:\n",
    "1. Ensure you pass all points on the [rubric](https://review.udacity.com/#!/rubrics/1004/view).\n",
    "2. Submit the following in a zip file.\n",
    "  - `helper.py`\n",
    "  - `machine_translation.ipynb`\n",
    "  - `machine_translation.html`\n",
    "    - You can export the notebook by navigating to **File -> Download as -> HTML (.html)**."
   ]
  },
  {
   "cell_type": "code",
   "execution_count": null,
   "metadata": {
    "collapsed": true
   },
   "outputs": [],
   "source": []
  }
 ],
 "metadata": {
  "kernelspec": {
   "display_name": "Python 3",
   "language": "python",
   "name": "python3"
  },
  "language_info": {
   "codemirror_mode": {
    "name": "ipython",
    "version": 3
   },
   "file_extension": ".py",
   "mimetype": "text/x-python",
   "name": "python",
   "nbconvert_exporter": "python",
   "pygments_lexer": "ipython3",
   "version": "3.5.3"
  }
 },
 "nbformat": 4,
 "nbformat_minor": 1
}
